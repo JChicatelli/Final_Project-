{
 "cells": [
  {
   "cell_type": "code",
   "execution_count": 12,
   "metadata": {},
   "outputs": [],
   "source": [
    "#%matplotlib inline\n",
    "import pandas as pd\n",
    "#import matplotlib.pyplot as plt\n",
    "#import numpy as np\n",
    "#import sklearn\n",
    "#import sklearn.datasets\n",
    "#from numpy.random import seed\n",
    "#seed(1)"
   ]
  },
  {
   "cell_type": "code",
   "execution_count": 13,
   "metadata": {},
   "outputs": [
    {
     "data": {
      "text/html": [
       "<div>\n",
       "<style scoped>\n",
       "    .dataframe tbody tr th:only-of-type {\n",
       "        vertical-align: middle;\n",
       "    }\n",
       "\n",
       "    .dataframe tbody tr th {\n",
       "        vertical-align: top;\n",
       "    }\n",
       "\n",
       "    .dataframe thead th {\n",
       "        text-align: right;\n",
       "    }\n",
       "</style>\n",
       "<table border=\"1\" class=\"dataframe\">\n",
       "  <thead>\n",
       "    <tr style=\"text-align: right;\">\n",
       "      <th></th>\n",
       "      <th>Population % Change</th>\n",
       "      <th>2010 Population</th>\n",
       "      <th>% Foreign Born</th>\n",
       "      <th>Veterans</th>\n",
       "      <th>Mean Travel Time</th>\n",
       "      <th>Median Household Income</th>\n",
       "      <th>Below Poverty Level</th>\n",
       "      <th>Total Number of Firms</th>\n",
       "      <th>% Black-owned Firms</th>\n",
       "      <th>% Asian-owned Firms</th>\n",
       "      <th>...</th>\n",
       "      <th>Donald Trump</th>\n",
       "      <th>Hillary Clinton</th>\n",
       "      <th>Jeb Bush</th>\n",
       "      <th>John Kasich</th>\n",
       "      <th>Marco Rubio</th>\n",
       "      <th>Martin OMalley</th>\n",
       "      <th>Mike Huckabee</th>\n",
       "      <th>Rand Paul</th>\n",
       "      <th>Rick Santorum</th>\n",
       "      <th>Ted Cruz</th>\n",
       "    </tr>\n",
       "  </thead>\n",
       "  <tbody>\n",
       "    <tr>\n",
       "      <th>0</th>\n",
       "      <td>1.5</td>\n",
       "      <td>54571</td>\n",
       "      <td>1.6</td>\n",
       "      <td>5922</td>\n",
       "      <td>26.2</td>\n",
       "      <td>53682</td>\n",
       "      <td>12.1</td>\n",
       "      <td>4067</td>\n",
       "      <td>15.2</td>\n",
       "      <td>1.3</td>\n",
       "      <td>...</td>\n",
       "      <td>5387</td>\n",
       "      <td>2387</td>\n",
       "      <td>0</td>\n",
       "      <td>421</td>\n",
       "      <td>1785</td>\n",
       "      <td>0</td>\n",
       "      <td>0</td>\n",
       "      <td>0</td>\n",
       "      <td>0</td>\n",
       "      <td>2482</td>\n",
       "    </tr>\n",
       "    <tr>\n",
       "      <th>1</th>\n",
       "      <td>9.8</td>\n",
       "      <td>182265</td>\n",
       "      <td>3.6</td>\n",
       "      <td>19346</td>\n",
       "      <td>25.9</td>\n",
       "      <td>50221</td>\n",
       "      <td>13.9</td>\n",
       "      <td>19035</td>\n",
       "      <td>2.7</td>\n",
       "      <td>1.0</td>\n",
       "      <td>...</td>\n",
       "      <td>23618</td>\n",
       "      <td>5290</td>\n",
       "      <td>0</td>\n",
       "      <td>2987</td>\n",
       "      <td>9703</td>\n",
       "      <td>0</td>\n",
       "      <td>0</td>\n",
       "      <td>0</td>\n",
       "      <td>0</td>\n",
       "      <td>8571</td>\n",
       "    </tr>\n",
       "    <tr>\n",
       "      <th>2</th>\n",
       "      <td>-2.1</td>\n",
       "      <td>27457</td>\n",
       "      <td>2.9</td>\n",
       "      <td>2120</td>\n",
       "      <td>24.6</td>\n",
       "      <td>32911</td>\n",
       "      <td>26.7</td>\n",
       "      <td>1667</td>\n",
       "      <td>0.0</td>\n",
       "      <td>0.0</td>\n",
       "      <td>...</td>\n",
       "      <td>1710</td>\n",
       "      <td>2567</td>\n",
       "      <td>0</td>\n",
       "      <td>123</td>\n",
       "      <td>498</td>\n",
       "      <td>0</td>\n",
       "      <td>0</td>\n",
       "      <td>0</td>\n",
       "      <td>0</td>\n",
       "      <td>609</td>\n",
       "    </tr>\n",
       "    <tr>\n",
       "      <th>3</th>\n",
       "      <td>-1.8</td>\n",
       "      <td>22915</td>\n",
       "      <td>1.2</td>\n",
       "      <td>1327</td>\n",
       "      <td>27.6</td>\n",
       "      <td>36447</td>\n",
       "      <td>18.1</td>\n",
       "      <td>1385</td>\n",
       "      <td>14.9</td>\n",
       "      <td>0.0</td>\n",
       "      <td>...</td>\n",
       "      <td>1959</td>\n",
       "      <td>942</td>\n",
       "      <td>0</td>\n",
       "      <td>84</td>\n",
       "      <td>444</td>\n",
       "      <td>0</td>\n",
       "      <td>0</td>\n",
       "      <td>0</td>\n",
       "      <td>0</td>\n",
       "      <td>1011</td>\n",
       "    </tr>\n",
       "    <tr>\n",
       "      <th>4</th>\n",
       "      <td>0.7</td>\n",
       "      <td>57322</td>\n",
       "      <td>4.3</td>\n",
       "      <td>4540</td>\n",
       "      <td>33.9</td>\n",
       "      <td>44145</td>\n",
       "      <td>15.8</td>\n",
       "      <td>4458</td>\n",
       "      <td>0.0</td>\n",
       "      <td>0.0</td>\n",
       "      <td>...</td>\n",
       "      <td>7390</td>\n",
       "      <td>564</td>\n",
       "      <td>0</td>\n",
       "      <td>337</td>\n",
       "      <td>1843</td>\n",
       "      <td>0</td>\n",
       "      <td>0</td>\n",
       "      <td>0</td>\n",
       "      <td>0</td>\n",
       "      <td>3698</td>\n",
       "    </tr>\n",
       "  </tbody>\n",
       "</table>\n",
       "<p>5 rows × 34 columns</p>\n",
       "</div>"
      ],
      "text/plain": [
       "   Population % Change  2010 Population  % Foreign Born  Veterans  \\\n",
       "0                  1.5            54571             1.6      5922   \n",
       "1                  9.8           182265             3.6     19346   \n",
       "2                 -2.1            27457             2.9      2120   \n",
       "3                 -1.8            22915             1.2      1327   \n",
       "4                  0.7            57322             4.3      4540   \n",
       "\n",
       "   Mean Travel Time  Median Household Income  Below Poverty Level  \\\n",
       "0              26.2                    53682                 12.1   \n",
       "1              25.9                    50221                 13.9   \n",
       "2              24.6                    32911                 26.7   \n",
       "3              27.6                    36447                 18.1   \n",
       "4              33.9                    44145                 15.8   \n",
       "\n",
       "   Total Number of Firms  % Black-owned Firms  % Asian-owned Firms    ...     \\\n",
       "0                   4067                 15.2                  1.3    ...      \n",
       "1                  19035                  2.7                  1.0    ...      \n",
       "2                   1667                  0.0                  0.0    ...      \n",
       "3                   1385                 14.9                  0.0    ...      \n",
       "4                   4458                  0.0                  0.0    ...      \n",
       "\n",
       "   Donald Trump  Hillary Clinton  Jeb Bush  John Kasich  Marco Rubio  \\\n",
       "0          5387             2387         0          421         1785   \n",
       "1         23618             5290         0         2987         9703   \n",
       "2          1710             2567         0          123          498   \n",
       "3          1959              942         0           84          444   \n",
       "4          7390              564         0          337         1843   \n",
       "\n",
       "   Martin OMalley  Mike Huckabee  Rand Paul  Rick Santorum  Ted Cruz  \n",
       "0               0              0          0              0      2482  \n",
       "1               0              0          0              0      8571  \n",
       "2               0              0          0              0       609  \n",
       "3               0              0          0              0      1011  \n",
       "4               0              0          0              0      3698  \n",
       "\n",
       "[5 rows x 34 columns]"
      ]
     },
     "execution_count": 13,
     "metadata": {},
     "output_type": "execute_result"
    }
   ],
   "source": [
    "# Read the csv file into a pandas DataFrame\n",
    "file = \"nobetter.csv\"\n",
    "primary_data = pd.read_csv(file)\n",
    "primary_data.head()"
   ]
  },
  {
   "cell_type": "code",
   "execution_count": 14,
   "metadata": {},
   "outputs": [
    {
     "data": {
      "text/plain": [
       "Index(['Population % Change', '2010 Population', '% Foreign Born', 'Veterans',\n",
       "       'Mean Travel Time', 'Median Household Income', 'Below Poverty Level',\n",
       "       'Total Number of Firms', '% Black-owned Firms', '% Asian-owned Firms',\n",
       "       '% Hispanic-owned Firms', '% Women-owned Firms',\n",
       "       'Manufacturers Shipments ($1000)', 'Retail Sales ($1000)',\n",
       "       'Retail Sales per Capita', 'Building permits',\n",
       "       'Land Area (Square Miles)', 'Population per Square Mile',\n",
       "       'No Preference', 'Uncommitted', 'Ben Carson', 'Bernie Sanders',\n",
       "       'Carly Fiorina', 'Chris Christie', 'Donald Trump', 'Hillary Clinton',\n",
       "       'Jeb Bush', 'John Kasich', 'Marco Rubio', 'Martin OMalley',\n",
       "       'Mike Huckabee', 'Rand Paul', 'Rick Santorum', 'Ted Cruz'],\n",
       "      dtype='object')"
      ]
     },
     "execution_count": 14,
     "metadata": {},
     "output_type": "execute_result"
    }
   ],
   "source": [
    "primary_data.columns"
   ]
  },
  {
   "cell_type": "code",
   "execution_count": 15,
   "metadata": {},
   "outputs": [],
   "source": [
    "# Assign X (data) and y (target)\n",
    "\n",
    "### BEGIN SOLUTION\n",
    "# X = primary_data[['Population % Change', '2010 Population', '% Foreign Born', 'Veterans',\n",
    "#        'Mean Travel Time', 'Median Household Income', 'Below Poverty Level',\n",
    "#        'Total Number of Firms', '% Black-owned Firms', '% Asian-owned Firms',\n",
    "#        '% Hispanic-owned Firms', '% Women-owned Firms',\n",
    "#        'Manufacturers Shipments ($1000)', 'Retail Sales ($1000)',\n",
    "#        'Retail Sales per Capita', 'Building permits',\n",
    "#        'Land Area (Square Miles)', 'Population per Square Mile']]\n",
    "# y = primary_data[['No Preference', 'Uncommitted', 'Ben Carson', 'Bernie Sanders',\n",
    "#        'Carly Fiorina', 'Chris Christie', 'Donald Trump', 'Hillary Clinton',\n",
    "#        'Jeb Bush', 'John Kasich', 'Marco Rubio', 'Martin OMalley',\n",
    "#        'Mike Huckabee', 'Rand Paul', 'Rick Santorum', 'Ted Cruz']]\n",
    "# print(X.shape, y.shape)\n",
    "# ### END SOLUTION"
   ]
  },
  {
   "cell_type": "code",
   "execution_count": 16,
   "metadata": {},
   "outputs": [
    {
     "name": "stdout",
     "output_type": "stream",
     "text": [
      "(2798, 2) (2798, 2)\n"
     ]
    }
   ],
   "source": [
    "# Assign X (data) and y (target)\n",
    "\n",
    "## BEGIN SOLUTION\n",
    "X = primary_data[[\"% Black-owned Firms\", \"% Asian-owned Firms\", \"% Hispanic-owned Firms\", \"% Women-owned Firms\"]]\n",
    "y = primary_data[[\"Donald Trump\", \"Ted Cruz\", \"John Kasich\", \"Marco Rubio\"]]\n",
    "print(X.shape, y.shape)\n",
    "### END SOLUTION"
   ]
  },
  {
   "cell_type": "code",
   "execution_count": 17,
   "metadata": {},
   "outputs": [],
   "source": [
    "# Split the data into training and testing\n",
    "\n",
    "### BEGIN SOLUTION\n",
    "from sklearn.model_selection import train_test_split\n",
    "\n",
    "X_train, X_test, y_train, y_test = train_test_split(X, y, random_state=10)\n",
    "### END SOLUTION"
   ]
  },
  {
   "cell_type": "code",
   "execution_count": 18,
   "metadata": {
    "nbgrader": {
     "grade": false,
     "grade_id": "cell-7e1de5d9b7942f68",
     "locked": false,
     "schema_version": 1,
     "solution": true
    }
   },
   "outputs": [],
   "source": [
    "from sklearn.preprocessing import StandardScaler\n",
    "\n",
    "# Create a StandardScater model and fit it to the training data\n",
    "X_scaler = StandardScaler().fit(X_train)\n",
    "#y_scaler = StandardScaler().fit(y_train)"
   ]
  },
  {
   "cell_type": "code",
   "execution_count": 19,
   "metadata": {
    "nbgrader": {
     "grade": false,
     "grade_id": "cell-9532e12246e485d5",
     "locked": false,
     "schema_version": 1,
     "solution": true
    }
   },
   "outputs": [],
   "source": [
    "# Transform the training and testing data using the X_scaler\n",
    "\n",
    "X_train_scaled = X_scaler.transform(X_train)\n",
    "X_test_scaled = X_scaler.transform(X_test)\n",
    "#y_train_scaled = y_scaler.transform(X_train)\n",
    "#y_test_scaled = y_scaler.transform(X_test)"
   ]
  },
  {
   "cell_type": "code",
   "execution_count": 20,
   "metadata": {},
   "outputs": [],
   "source": [
    "#from keras.utils import to_categorical\n",
    "\n",
    "#One-hot encoding\n",
    "#y_train_categorical = to_categorical(y_train)\n",
    "#y_test_categorical = to_categorical(y_test)"
   ]
  },
  {
   "cell_type": "code",
   "execution_count": 21,
   "metadata": {
    "nbgrader": {
     "grade": false,
     "grade_id": "cell-ec399a95e133cb58",
     "locked": false,
     "schema_version": 1,
     "solution": true
    }
   },
   "outputs": [],
   "source": [
    "# first, create a normal neural network with 2 inputs, 6 hidden nodes, and 2 outputs\n",
    "from keras.models import Sequential\n",
    "from keras.layers import Dense\n",
    "\n",
    "model = Sequential()\n",
    "model.add(Dense(units=200, activation='relu', input_dim=4))\n",
    "model.add(Dense(units=4, activation='softmax'))"
   ]
  },
  {
   "cell_type": "code",
   "execution_count": 22,
   "metadata": {},
   "outputs": [
    {
     "name": "stdout",
     "output_type": "stream",
     "text": [
      "_________________________________________________________________\n",
      "Layer (type)                 Output Shape              Param #   \n",
      "=================================================================\n",
      "dense_3 (Dense)              (None, 200)               600       \n",
      "_________________________________________________________________\n",
      "dense_4 (Dense)              (None, 2)                 402       \n",
      "=================================================================\n",
      "Total params: 1,002\n",
      "Trainable params: 1,002\n",
      "Non-trainable params: 0\n",
      "_________________________________________________________________\n"
     ]
    }
   ],
   "source": [
    "model.summary()"
   ]
  },
  {
   "cell_type": "code",
   "execution_count": 23,
   "metadata": {},
   "outputs": [],
   "source": [
    "# Compile the model\n",
    "model.compile(optimizer='adam',\n",
    "              loss='categorical_crossentropy',\n",
    "              metrics=['accuracy'])"
   ]
  },
  {
   "cell_type": "code",
   "execution_count": 24,
   "metadata": {
    "nbgrader": {
     "grade": false,
     "grade_id": "cell-5cf2fbdbea0ed50b",
     "locked": false,
     "schema_version": 1,
     "solution": true
    }
   },
   "outputs": [
    {
     "name": "stdout",
     "output_type": "stream",
     "text": [
      "Epoch 1/50\n",
      " - 1s - loss: 6257.5075 - acc: 0.5891\n",
      "Epoch 2/50\n",
      " - 0s - loss: 6022.9321 - acc: 0.5944\n",
      "Epoch 3/50\n",
      " - 0s - loss: 5984.9694 - acc: 0.5949\n",
      "Epoch 4/50\n",
      " - 0s - loss: 6000.4007 - acc: 0.5953\n",
      "Epoch 5/50\n",
      " - 0s - loss: 6106.7089 - acc: 0.5963\n",
      "Epoch 6/50\n",
      " - 0s - loss: 6042.0884 - acc: 0.5949\n",
      "Epoch 7/50\n",
      " - 0s - loss: 5972.0492 - acc: 0.5953\n",
      "Epoch 8/50\n",
      " - 0s - loss: 5961.0949 - acc: 0.5958\n",
      "Epoch 9/50\n",
      " - 0s - loss: 5968.5872 - acc: 0.5958\n",
      "Epoch 10/50\n",
      " - 0s - loss: 6291.4568 - acc: 0.5991\n",
      "Epoch 11/50\n",
      " - 0s - loss: 6064.5952 - acc: 0.5934\n",
      "Epoch 12/50\n",
      " - 0s - loss: 6008.9115 - acc: 0.5953\n",
      "Epoch 13/50\n",
      " - 0s - loss: 5962.0945 - acc: 0.5972\n",
      "Epoch 14/50\n",
      " - 0s - loss: 5962.8734 - acc: 0.5958\n",
      "Epoch 15/50\n",
      " - 0s - loss: 6011.7303 - acc: 0.5972\n",
      "Epoch 16/50\n",
      " - 0s - loss: 6046.0417 - acc: 0.5949\n",
      "Epoch 17/50\n",
      " - 0s - loss: 5971.7312 - acc: 0.5949\n",
      "Epoch 18/50\n",
      " - 0s - loss: 5961.1915 - acc: 0.5953\n",
      "Epoch 19/50\n",
      " - 0s - loss: 5960.8980 - acc: 0.5958\n",
      "Epoch 20/50\n",
      " - 0s - loss: 5960.0283 - acc: 0.5958\n",
      "Epoch 21/50\n",
      " - 0s - loss: 6074.7765 - acc: 0.5949\n",
      "Epoch 22/50\n",
      " - 0s - loss: 6282.2482 - acc: 0.6034\n",
      "Epoch 23/50\n",
      " - 0s - loss: 6018.2898 - acc: 0.5968\n",
      "Epoch 24/50\n",
      " - 0s - loss: 5970.4290 - acc: 0.5958\n",
      "Epoch 25/50\n",
      " - 0s - loss: 6031.5655 - acc: 0.5953\n",
      "Epoch 26/50\n",
      " - 0s - loss: 5967.7282 - acc: 0.5958\n",
      "Epoch 27/50\n",
      " - 0s - loss: 5958.0225 - acc: 0.5958\n",
      "Epoch 28/50\n",
      " - 0s - loss: 5957.7066 - acc: 0.5958\n",
      "Epoch 29/50\n",
      " - 0s - loss: 5985.5615 - acc: 0.5953\n",
      "Epoch 30/50\n",
      " - 0s - loss: 5953.9574 - acc: 0.5953\n",
      "Epoch 31/50\n",
      " - 0s - loss: 5956.7211 - acc: 0.5958\n",
      "Epoch 32/50\n",
      " - 0s - loss: 5955.7734 - acc: 0.5958\n",
      "Epoch 33/50\n",
      " - 0s - loss: 5963.0612 - acc: 0.5963\n",
      "Epoch 34/50\n",
      " - 0s - loss: 6073.8597 - acc: 0.5944\n",
      "Epoch 35/50\n",
      " - 0s - loss: 5988.3022 - acc: 0.6058\n",
      "Epoch 36/50\n",
      " - 0s - loss: 5986.3626 - acc: 0.6015\n",
      "Epoch 37/50\n",
      " - 0s - loss: 6018.7702 - acc: 0.5982\n",
      "Epoch 38/50\n",
      " - 0s - loss: 6435.3050 - acc: 0.6049\n",
      "Epoch 39/50\n",
      " - 0s - loss: 5961.3428 - acc: 0.5958\n",
      "Epoch 40/50\n",
      " - 0s - loss: 5955.2351 - acc: 0.5958\n",
      "Epoch 41/50\n",
      " - 0s - loss: 5960.6853 - acc: 0.5953\n",
      "Epoch 42/50\n",
      " - 0s - loss: 5960.8323 - acc: 0.5958\n",
      "Epoch 43/50\n",
      " - 0s - loss: 6062.9193 - acc: 0.5949\n",
      "Epoch 44/50\n",
      " - 0s - loss: 5986.4909 - acc: 0.5949\n",
      "Epoch 45/50\n",
      " - 0s - loss: 5975.2556 - acc: 0.5944\n",
      "Epoch 46/50\n",
      " - 0s - loss: 5953.2153 - acc: 0.5958\n",
      "Epoch 47/50\n",
      " - 0s - loss: 5957.7093 - acc: 0.5958\n",
      "Epoch 48/50\n",
      " - 0s - loss: 6019.4713 - acc: 0.5963\n",
      "Epoch 49/50\n",
      " - 0s - loss: 5971.1159 - acc: 0.5972\n",
      "Epoch 50/50\n",
      " - 0s - loss: 5979.9026 - acc: 0.5958\n"
     ]
    },
    {
     "data": {
      "text/plain": [
       "<keras.callbacks.History at 0x1a38f7dda0>"
      ]
     },
     "execution_count": 24,
     "metadata": {},
     "output_type": "execute_result"
    }
   ],
   "source": [
    "# Fit the model to the training data\n",
    "model.fit(\n",
    "    X_train_scaled,\n",
    "    y_train,\n",
    "    epochs=50,\n",
    "    shuffle=True,\n",
    "    verbose=2\n",
    ")"
   ]
  },
  {
   "cell_type": "markdown",
   "metadata": {},
   "source": [
    "# Deep Learning\n",
    "For this network, we simply add an additional hidden layer of 6 nodes"
   ]
  },
  {
   "cell_type": "code",
   "execution_count": 28,
   "metadata": {},
   "outputs": [],
   "source": [
    "deep_model = Sequential()\n",
    "deep_model.add(Dense(units=200, activation='relu', input_dim=4))\n",
    "deep_model.add(Dense(units=200, activation='relu'))\n",
    "deep_model.add(Dense(units=4, activation='softmax'))"
   ]
  },
  {
   "cell_type": "code",
   "execution_count": 29,
   "metadata": {},
   "outputs": [
    {
     "name": "stdout",
     "output_type": "stream",
     "text": [
      "_________________________________________________________________\n",
      "Layer (type)                 Output Shape              Param #   \n",
      "=================================================================\n",
      "dense_8 (Dense)              (None, 200)               600       \n",
      "_________________________________________________________________\n",
      "dense_9 (Dense)              (None, 200)               40200     \n",
      "_________________________________________________________________\n",
      "dense_10 (Dense)             (None, 2)                 402       \n",
      "=================================================================\n",
      "Total params: 41,202\n",
      "Trainable params: 41,202\n",
      "Non-trainable params: 0\n",
      "_________________________________________________________________\n"
     ]
    }
   ],
   "source": [
    "deep_model.summary()"
   ]
  },
  {
   "cell_type": "code",
   "execution_count": 30,
   "metadata": {},
   "outputs": [
    {
     "name": "stdout",
     "output_type": "stream",
     "text": [
      "Epoch 1/100\n",
      " - 2s - loss: 7081.9812 - acc: 0.5772\n",
      "Epoch 2/100\n",
      " - 0s - loss: 6104.0939 - acc: 0.5953\n",
      "Epoch 3/100\n",
      " - 0s - loss: 6812.4862 - acc: 0.5972\n",
      "Epoch 4/100\n",
      " - 0s - loss: 6240.2146 - acc: 0.5939\n",
      "Epoch 5/100\n",
      " - 0s - loss: 6127.9884 - acc: 0.5934\n",
      "Epoch 6/100\n",
      " - 0s - loss: 6032.7699 - acc: 0.5944\n",
      "Epoch 7/100\n",
      " - 0s - loss: 6031.0882 - acc: 0.5972\n",
      "Epoch 8/100\n",
      " - 0s - loss: 6137.9290 - acc: 0.5929\n",
      "Epoch 9/100\n",
      " - 0s - loss: 5992.9512 - acc: 0.5953\n",
      "Epoch 10/100\n",
      " - 0s - loss: 5956.8139 - acc: 0.5949\n",
      "Epoch 11/100\n",
      " - 0s - loss: 5987.4720 - acc: 0.5958\n",
      "Epoch 12/100\n",
      " - 0s - loss: 5962.7875 - acc: 0.5958\n",
      "Epoch 13/100\n",
      " - 0s - loss: 6004.6220 - acc: 0.5949\n",
      "Epoch 14/100\n",
      " - 0s - loss: 5969.8203 - acc: 0.6053\n",
      "Epoch 15/100\n",
      " - 0s - loss: 6066.4199 - acc: 0.6158\n",
      "Epoch 16/100\n",
      " - 0s - loss: 6033.4249 - acc: 0.6044\n",
      "Epoch 17/100\n",
      " - 0s - loss: 6187.0279 - acc: 0.6106\n",
      "Epoch 18/100\n",
      " - 0s - loss: 5994.6096 - acc: 0.5953\n",
      "Epoch 19/100\n",
      " - 0s - loss: 6146.9281 - acc: 0.6087\n",
      "Epoch 20/100\n",
      " - 0s - loss: 6332.7704 - acc: 0.6173\n",
      "Epoch 21/100\n",
      " - 0s - loss: 5960.2863 - acc: 0.6010\n",
      "Epoch 22/100\n",
      " - 0s - loss: 5952.2524 - acc: 0.6225\n",
      "Epoch 23/100\n",
      " - 0s - loss: 5949.5653 - acc: 0.6244\n",
      "Epoch 24/100\n",
      " - 0s - loss: 5950.8867 - acc: 0.6263\n",
      "Epoch 25/100\n",
      " - 0s - loss: 5947.8403 - acc: 0.6235\n",
      "Epoch 26/100\n",
      " - 0s - loss: 5946.0562 - acc: 0.6273\n",
      "Epoch 27/100\n",
      " - 0s - loss: 5949.4922 - acc: 0.6225\n",
      "Epoch 28/100\n",
      " - 0s - loss: 5972.9561 - acc: 0.6244\n",
      "Epoch 29/100\n",
      " - 0s - loss: 5954.1594 - acc: 0.6258\n",
      "Epoch 30/100\n",
      " - 0s - loss: 5981.4587 - acc: 0.6282\n",
      "Epoch 31/100\n",
      " - 0s - loss: 5951.6623 - acc: 0.6282\n",
      "Epoch 32/100\n",
      " - 0s - loss: 5947.7573 - acc: 0.6277\n",
      "Epoch 33/100\n",
      " - 0s - loss: 5944.5823 - acc: 0.6263\n",
      "Epoch 34/100\n",
      " - 0s - loss: 5953.4553 - acc: 0.6268\n",
      "Epoch 35/100\n",
      " - 0s - loss: 5959.1401 - acc: 0.6325\n",
      "Epoch 36/100\n",
      " - 0s - loss: 5952.8396 - acc: 0.6258\n",
      "Epoch 37/100\n",
      " - 0s - loss: 5952.7677 - acc: 0.6273\n",
      "Epoch 38/100\n",
      " - 0s - loss: 5946.3470 - acc: 0.6268\n",
      "Epoch 39/100\n",
      " - 0s - loss: 5943.0107 - acc: 0.6268\n",
      "Epoch 40/100\n",
      " - 0s - loss: 5955.8324 - acc: 0.6282\n",
      "Epoch 41/100\n",
      " - 0s - loss: 5957.2387 - acc: 0.6268\n",
      "Epoch 42/100\n",
      " - 0s - loss: 5957.8812 - acc: 0.6292\n",
      "Epoch 43/100\n",
      " - 0s - loss: 5945.6478 - acc: 0.6277\n",
      "Epoch 44/100\n",
      " - 0s - loss: 5941.9125 - acc: 0.6301\n",
      "Epoch 45/100\n",
      " - 0s - loss: 5940.9846 - acc: 0.6273\n",
      "Epoch 46/100\n",
      " - 0s - loss: 5943.7502 - acc: 0.6287\n",
      "Epoch 47/100\n",
      " - 0s - loss: 5946.4577 - acc: 0.6292\n",
      "Epoch 48/100\n",
      " - 0s - loss: 5941.6795 - acc: 0.6287\n",
      "Epoch 49/100\n",
      " - 0s - loss: 5940.9683 - acc: 0.6296\n",
      "Epoch 50/100\n",
      " - 0s - loss: 5942.4993 - acc: 0.6316\n",
      "Epoch 51/100\n",
      " - 0s - loss: 5939.8461 - acc: 0.6249\n",
      "Epoch 52/100\n",
      " - 0s - loss: 5942.5718 - acc: 0.6330\n",
      "Epoch 53/100\n",
      " - 0s - loss: 5941.4158 - acc: 0.6230\n",
      "Epoch 54/100\n",
      " - 0s - loss: 5945.4438 - acc: 0.6263\n",
      "Epoch 55/100\n",
      " - 0s - loss: 5955.1545 - acc: 0.6287\n",
      "Epoch 56/100\n",
      " - 0s - loss: 5952.4314 - acc: 0.6273\n",
      "Epoch 57/100\n",
      " - 0s - loss: 5938.8274 - acc: 0.6268\n",
      "Epoch 58/100\n",
      " - 0s - loss: 5940.1848 - acc: 0.6316\n",
      "Epoch 59/100\n",
      " - 0s - loss: 5939.5767 - acc: 0.6254\n",
      "Epoch 60/100\n",
      " - 0s - loss: 5941.6686 - acc: 0.6306\n",
      "Epoch 61/100\n",
      " - 0s - loss: 5941.2625 - acc: 0.6249\n",
      "Epoch 62/100\n",
      " - 0s - loss: 5941.4967 - acc: 0.6273\n",
      "Epoch 63/100\n",
      " - 0s - loss: 5941.3729 - acc: 0.6296\n",
      "Epoch 64/100\n",
      " - 0s - loss: 5940.0543 - acc: 0.6277\n",
      "Epoch 65/100\n",
      " - 0s - loss: 5944.4966 - acc: 0.6296\n",
      "Epoch 66/100\n",
      " - 0s - loss: 5939.2391 - acc: 0.6258\n",
      "Epoch 67/100\n",
      " - 0s - loss: 5940.6611 - acc: 0.6287\n",
      "Epoch 68/100\n",
      " - 0s - loss: 5939.8162 - acc: 0.6320\n",
      "Epoch 69/100\n",
      " - 0s - loss: 5940.7248 - acc: 0.6263\n",
      "Epoch 70/100\n",
      " - 0s - loss: 5939.3430 - acc: 0.6325\n",
      "Epoch 71/100\n",
      " - 0s - loss: 5938.5244 - acc: 0.6282\n",
      "Epoch 72/100\n",
      " - 0s - loss: 5943.9940 - acc: 0.6296\n",
      "Epoch 73/100\n",
      " - 0s - loss: 5939.0025 - acc: 0.6296\n",
      "Epoch 74/100\n",
      " - 0s - loss: 5942.1532 - acc: 0.6273\n",
      "Epoch 75/100\n",
      " - 0s - loss: 5941.2254 - acc: 0.6296\n",
      "Epoch 76/100\n",
      " - 0s - loss: 5938.9322 - acc: 0.6292\n",
      "Epoch 77/100\n",
      " - 0s - loss: 5938.6926 - acc: 0.6282\n",
      "Epoch 78/100\n",
      " - 0s - loss: 5938.6556 - acc: 0.6268\n",
      "Epoch 79/100\n",
      " - 0s - loss: 5938.6416 - acc: 0.6306\n",
      "Epoch 80/100\n",
      " - 0s - loss: 5940.8763 - acc: 0.6296\n",
      "Epoch 81/100\n",
      " - 0s - loss: 5947.4253 - acc: 0.6254\n",
      "Epoch 82/100\n",
      " - 0s - loss: 5937.1424 - acc: 0.6273\n",
      "Epoch 83/100\n",
      " - 0s - loss: 5937.9337 - acc: 0.6325\n",
      "Epoch 84/100\n",
      " - 0s - loss: 5937.7634 - acc: 0.6258\n",
      "Epoch 85/100\n",
      " - 0s - loss: 5945.5319 - acc: 0.6277\n",
      "Epoch 86/100\n",
      " - 0s - loss: 5937.2030 - acc: 0.6287\n",
      "Epoch 87/100\n",
      " - 0s - loss: 5938.7876 - acc: 0.6287\n",
      "Epoch 88/100\n",
      " - 0s - loss: 5937.3014 - acc: 0.6277\n",
      "Epoch 89/100\n",
      " - 0s - loss: 5939.5409 - acc: 0.6249\n",
      "Epoch 90/100\n",
      " - 0s - loss: 5936.3999 - acc: 0.6316\n",
      "Epoch 91/100\n",
      " - 0s - loss: 5937.1851 - acc: 0.6292\n",
      "Epoch 92/100\n",
      " - 0s - loss: 5937.6740 - acc: 0.6282\n",
      "Epoch 93/100\n",
      " - 0s - loss: 5938.4590 - acc: 0.6287\n",
      "Epoch 94/100\n",
      " - 0s - loss: 5937.0680 - acc: 0.6301\n",
      "Epoch 95/100\n",
      " - 0s - loss: 5940.6087 - acc: 0.6330\n",
      "Epoch 96/100\n",
      " - 0s - loss: 5937.9990 - acc: 0.6316\n",
      "Epoch 97/100\n",
      " - 0s - loss: 5936.6981 - acc: 0.6316\n",
      "Epoch 98/100\n",
      " - 0s - loss: 5938.0366 - acc: 0.6330\n",
      "Epoch 99/100\n",
      " - 0s - loss: 5941.8824 - acc: 0.6277\n",
      "Epoch 100/100\n",
      " - 0s - loss: 5937.8787 - acc: 0.6263\n"
     ]
    },
    {
     "data": {
      "text/plain": [
       "<keras.callbacks.History at 0x1a1c4cbe48>"
      ]
     },
     "execution_count": 30,
     "metadata": {},
     "output_type": "execute_result"
    }
   ],
   "source": [
    "deep_model.compile(optimizer='adam',\n",
    "                   loss='categorical_crossentropy',\n",
    "                   metrics=['accuracy'])\n",
    "\n",
    "deep_model.fit(\n",
    "    X_train_scaled,\n",
    "    y_train,\n",
    "    epochs=100,\n",
    "    shuffle=True,\n",
    "    verbose=2\n",
    ")"
   ]
  },
  {
   "cell_type": "markdown",
   "metadata": {},
   "source": [
    "# Compare the models below"
   ]
  },
  {
   "cell_type": "code",
   "execution_count": 31,
   "metadata": {},
   "outputs": [
    {
     "name": "stdout",
     "output_type": "stream",
     "text": [
      "Normal Neural Network - Loss: 5871.209401506697, Accuracy: 0.5985714295932225\n"
     ]
    }
   ],
   "source": [
    "model_loss, model_accuracy = model.evaluate(\n",
    "    X_test_scaled, y_test, verbose=2)\n",
    "print(\n",
    "    f\"Normal Neural Network - Loss: {model_loss}, Accuracy: {model_accuracy}\")\n"
   ]
  },
  {
   "cell_type": "code",
   "execution_count": null,
   "metadata": {},
   "outputs": [],
   "source": [
    "\n"
   ]
  },
  {
   "cell_type": "code",
   "execution_count": 32,
   "metadata": {},
   "outputs": [
    {
     "name": "stdout",
     "output_type": "stream",
     "text": [
      "Deep Neural Network - Loss: 5868.949320591518, Accuracy: 0.6128571425165449\n"
     ]
    }
   ],
   "source": [
    "model_loss, model_accuracy = deep_model.evaluate(\n",
    "    X_test_scaled, y_test, verbose=2)\n",
    "print(f\"Deep Neural Network - Loss: {model_loss}, Accuracy: {model_accuracy}\")"
   ]
  },
  {
   "cell_type": "code",
   "execution_count": 33,
   "metadata": {},
   "outputs": [
    {
     "data": {
      "text/plain": [
       "array([0.5519723, 0.4480277], dtype=float32)"
      ]
     },
     "execution_count": 33,
     "metadata": {},
     "output_type": "execute_result"
    }
   ],
   "source": [
    "deep_model.predict(X_train_scaled)[0]"
   ]
  },
  {
   "cell_type": "code",
   "execution_count": 90,
   "metadata": {},
   "outputs": [
    {
     "data": {
      "text/plain": [
       "array([0.1470702])"
      ]
     },
     "execution_count": 90,
     "metadata": {},
     "output_type": "execute_result"
    }
   ],
   "source": [
    "X_test_scaled[0]"
   ]
  },
  {
   "cell_type": "code",
   "execution_count": null,
   "metadata": {},
   "outputs": [],
   "source": []
  },
  {
   "cell_type": "code",
   "execution_count": null,
   "metadata": {},
   "outputs": [],
   "source": []
  },
  {
   "cell_type": "markdown",
   "metadata": {},
   "source": [
    "# In a nutshell..."
   ]
  },
  {
   "cell_type": "markdown",
   "metadata": {},
   "source": [
    "![stack more layers](../Images/stack-more-layers.jpg)"
   ]
  }
 ],
 "metadata": {
  "anaconda-cloud": {},
  "kernelspec": {
   "display_name": "Python 3",
   "language": "python",
   "name": "python3"
  },
  "language_info": {
   "codemirror_mode": {
    "name": "ipython",
    "version": 3
   },
   "file_extension": ".py",
   "mimetype": "text/x-python",
   "name": "python",
   "nbconvert_exporter": "python",
   "pygments_lexer": "ipython3",
   "version": "3.6.8"
  },
  "varInspector": {
   "cols": {
    "lenName": 16,
    "lenType": 16,
    "lenVar": 40
   },
   "kernels_config": {
    "python": {
     "delete_cmd_postfix": "",
     "delete_cmd_prefix": "del ",
     "library": "var_list.py",
     "varRefreshCmd": "print(var_dic_list())"
    },
    "r": {
     "delete_cmd_postfix": ") ",
     "delete_cmd_prefix": "rm(",
     "library": "var_list.r",
     "varRefreshCmd": "cat(var_dic_list()) "
    }
   },
   "types_to_exclude": [
    "module",
    "function",
    "builtin_function_or_method",
    "instance",
    "_Feature"
   ],
   "window_display": false
  }
 },
 "nbformat": 4,
 "nbformat_minor": 2
}
